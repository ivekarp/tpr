{
 "cells": [
  {
   "cell_type": "markdown",
   "metadata": {},
   "source": [
    "# Задание 1\n",
    "Печатные газеты использовали свой формат дат для каждого выпуска. Для каждой газеты из списка напишите формат указанной даты для перевода в объект datetime:\n",
    "- The Moscow Times - Wednesday, October 2, 2002\n",
    "- The Guardian - Friday, 11.10.13\n",
    "- Daily News - Thursday, 18 August 1977"
   ]
  },
  {
   "cell_type": "code",
   "execution_count": 19,
   "metadata": {},
   "outputs": [
    {
     "name": "stdout",
     "output_type": "stream",
     "text": [
      "2002-10-02 00:00:00\n",
      "2013-10-11 00:00:00\n",
      "1977-08-18 00:00:00\n"
     ]
    }
   ],
   "source": [
    "import datetime as dt\n",
    "\n",
    "def the_moscow_times(date):\n",
    "    return dt.datetime.strptime(date,'%A,%B %d,%Y')\n",
    "\n",
    "def the_guardian(date):\n",
    "    return dt.datetime.strptime(date,'%A, %d.%m.%y')\n",
    "\n",
    "def daily_news(date):\n",
    "    return dt.datetime.strptime(date,'%A, %d %B %Y')\n",
    "\n",
    "print(the_moscow_times('Wednesday,October 2,2002'))\n",
    "print(the_guardian('Friday, 11.10.13'))\n",
    "print(daily_news('Thursday, 18 August 1977'))"
   ]
  },
  {
   "cell_type": "markdown",
   "metadata": {},
   "source": [
    "# Задание 2\n",
    "Дан поток дат в формате YYYY-MM-DD, в которых встречаются некорректные значения:\n",
    "stream = [‘2018-04-02’, ‘2018-02-29’, ‘2018-19-02’]"
   ]
  },
  {
   "cell_type": "markdown",
   "metadata": {},
   "source": [
    "Напишите функцию, которая проверяет эти даты на корректность. Т. е. для каждой даты возвращает True (дата корректна) или False (некорректная дата)."
   ]
  },
  {
   "cell_type": "code",
   "execution_count": 26,
   "metadata": {},
   "outputs": [
    {
     "data": {
      "text/plain": [
       "False"
      ]
     },
     "execution_count": 26,
     "metadata": {},
     "output_type": "execute_result"
    }
   ],
   "source": [
    "def is_correct(date):\n",
    "    try:\n",
    "        if(dt.datetime.strptime(date,'%Y-%m-%d')):\n",
    "            return True\n",
    "    except ValueError:\n",
    "        return False\n",
    "    \n",
    "is_correct('2018-18-02')"
   ]
  },
  {
   "cell_type": "markdown",
   "metadata": {},
   "source": [
    "# Задание 3\n",
    "Напишите функцию date_range, которая возвращает список дат за период от start_date до end_date. Даты должны вводиться в формате YYYY-MM-DD. В случае неверного формата или при start_date > end_date должен возвращаться пустой список."
   ]
  },
  {
   "cell_type": "code",
   "execution_count": 46,
   "metadata": {},
   "outputs": [
    {
     "data": {
      "text/plain": [
       "[datetime.datetime(2020, 9, 21, 0, 0),\n",
       " datetime.datetime(2020, 9, 22, 0, 0),\n",
       " datetime.datetime(2020, 9, 23, 0, 0),\n",
       " datetime.datetime(2020, 9, 24, 0, 0),\n",
       " datetime.datetime(2020, 9, 25, 0, 0),\n",
       " datetime.datetime(2020, 9, 26, 0, 0),\n",
       " datetime.datetime(2020, 9, 27, 0, 0),\n",
       " datetime.datetime(2020, 9, 28, 0, 0)]"
      ]
     },
     "execution_count": 46,
     "metadata": {},
     "output_type": "execute_result"
    }
   ],
   "source": [
    "import pandas as pd\n",
    "\n",
    "def date_range(start_date,end_date):\n",
    "    try:\n",
    "        start_date = dt.datetime.strptime(start_date,'%Y-%m-%d')\n",
    "        end_date = dt.datetime.strptime(end_date,'%Y-%m-%d')\n",
    "        return pd.date_range(start_date,end_date).to_pydatetime().tolist()\n",
    "    except ValueError:\n",
    "        return []\n",
    "\n",
    "date_range('2020-09-21','2020-09-28')"
   ]
  },
  {
   "cell_type": "markdown",
   "metadata": {},
   "source": [
    "# Задание 4\n",
    "Ваш коллега прислал код функции:"
   ]
  },
  {
   "cell_type": "code",
   "execution_count": 81,
   "metadata": {},
   "outputs": [
    {
     "name": "stdout",
     "output_type": "stream",
     "text": [
      "Этого элемента уже нет!\n"
     ]
    }
   ],
   "source": [
    "DEFAULT_USER_COUNT = 3\n",
    "\n",
    "def delete_and_return_last_user(region, default_list=['A100', 'A101', 'A102']):\n",
    "    \"\"\"\n",
    "    Удаляет из списка default_list последнего пользователя\n",
    "    и возвращает ID нового последнего пользователя.\n",
    "    \"\"\"\n",
    "    try:\n",
    "        element_to_delete = default_list[-1]\n",
    "        default_list.remove(element_to_delete)\n",
    "        return default_list[DEFAULT_USER_COUNT-2]\n",
    "    except IndexError:\n",
    "        print('Этого элемента уже нет!')\n",
    "\n",
    "delete_and_return_last_user(1)\n",
    "delete_and_return_last_user(1)"
   ]
  },
  {
   "cell_type": "markdown",
   "metadata": {},
   "source": [
    " \n",
    "При однократном вызове этой функции все работает корректно:\n",
    "delete_and_return_last_user(1)\n",
    "‘A101’\n",
    "\n",
    "Однако, при повторном вызове получается ошибка IndexError: list index out of range.\n",
    "\n",
    "# Задание:\n",
    "\n",
    "Что значит ошибка list index out of range?\n",
    "Почему при первом запуске функция работает корректно, а при втором - нет?"
   ]
  },
  {
   "cell_type": "markdown",
   "metadata": {},
   "source": [
    "# Ответ:\n",
    "\n",
    "Ошибка **list index out of range** значит, что индекс элемента, возвращаемого из функции выходит за границы списка.\n",
    "При первом запуске работает корректно, потому, что элемент с индексом DEFAULT_USER_COUNT-2 (то бишь, 1) ещё существует в списке, а при втором запуске в списке существует элемент с индексом 0, а не 1.\n",
    "\n",
    "## Послесловие:\n",
    "\n",
    "Вообще, этот \"коллега\" написал какую-то ерунду. Сначала ввёл переменную, в функции проводит высокоточные расчёты по выводу последнего пользователя, которые там по сути не нужны, а переменная **region**, которая передаётся в функцию, по факту является фиктивной, то есть, она нигде не используется XD XD XD\n",
    "\n",
    "Я бы сделал это немного по-другому:"
   ]
  },
  {
   "cell_type": "code",
   "execution_count": 92,
   "metadata": {},
   "outputs": [
    {
     "name": "stdout",
     "output_type": "stream",
     "text": [
      "Юзеров нет\n"
     ]
    }
   ],
   "source": [
    "def delete_and_return_last_user(default_list=['A100', 'A101', 'A102']):\n",
    "    \"\"\"\n",
    "    Удаляет из списка default_list последнего пользователя\n",
    "    и возвращает ID нового последнего пользователя.\n",
    "    UPD: Обработано граничное условие\n",
    "    \"\"\"\n",
    "    try:\n",
    "        element_to_delete = default_list[-1]\n",
    "        default_list.remove(element_to_delete)\n",
    "        return ('ID последнего юзера:' + str(default_list[-1]))\n",
    "    except IndexError:\n",
    "        print('Юзеров нет')\n",
    "\n",
    "delete_and_return_last_user()\n",
    "delete_and_return_last_user()\n",
    "delete_and_return_last_user()"
   ]
  },
  {
   "cell_type": "code",
   "execution_count": null,
   "metadata": {},
   "outputs": [],
   "source": []
  }
 ],
 "metadata": {
  "kernelspec": {
   "display_name": "Python 3",
   "language": "python",
   "name": "python3"
  },
  "language_info": {
   "codemirror_mode": {
    "name": "ipython",
    "version": 3
   },
   "file_extension": ".py",
   "mimetype": "text/x-python",
   "name": "python",
   "nbconvert_exporter": "python",
   "pygments_lexer": "ipython3",
   "version": "3.8.3"
  }
 },
 "nbformat": 4,
 "nbformat_minor": 4
}
