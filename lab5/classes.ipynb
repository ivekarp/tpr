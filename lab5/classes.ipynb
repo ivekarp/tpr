{
 "cells": [
  {
   "cell_type": "markdown",
   "metadata": {},
   "source": [
    "# Задание 1\n",
    "Напишите функцию, которая возвращает название валюты (поле ‘Name’) с максимальным значением курса с помощью сервиса https://www.cbr-xml-daily.ru/daily_json.js"
   ]
  },
  {
   "cell_type": "code",
   "execution_count": 2,
   "metadata": {},
   "outputs": [
    {
     "name": "stdout",
     "output_type": "stream",
     "text": [
      "Валюта с максимальным значеним курса: СДР (специальные права заимствования)\n"
     ]
    }
   ],
   "source": [
    "import requests,json\n",
    "\n",
    "url = 'https://www.cbr-xml-daily.ru/daily_json.js'\n",
    "\n",
    "def get_html(url):\n",
    "    return (requests.get(url))\n",
    "\n",
    "def get_valute(data):\n",
    "    valute = data.get('Valute')\n",
    "    valute_dict = {i.get('Name') : i.get('Value') for i in valute.values()}\n",
    "    max_value = max(valute_dict.values())\n",
    "    # Возвращает словарь, если нужна бОльшая информативность\n",
    "    # (кроме названия ещё и значение курса)\n",
    "    #final_dict = {k:v for k,v in valute_dict.items() if (v == max_value)}\n",
    "    #return (final_dict)\n",
    "    for k,v in valute_dict.items():\n",
    "        if (v == max_value):\n",
    "            # Возвращает только название валюты\n",
    "            return (k)\n",
    "\n",
    "data = json.loads(get_html(url).text)\n",
    "print('Валюта с максимальным значеним курса: ' + get_valute(data))\n",
    "# Альтернативное решение\n",
    "#max_valute = get_valute(data)\n",
    "#print(max_valute)\n"
   ]
  },
  {
   "cell_type": "markdown",
   "metadata": {},
   "source": [
    "# Задание 2\n",
    "Добавьте в класс Rate параметр diff (со значениями True или False), который в случае значения True в методах курсов валют (eur, usd итд) будет возвращать не курс валюты, а изменение по сравнению с прошлым значением. Считайте, self.diff будет принимать значение True только при возврате значения курса. При отображении всей информации о валюте он не используется."
   ]
  },
  {
   "cell_type": "code",
   "execution_count": 39,
   "metadata": {},
   "outputs": [
    {
     "name": "stdout",
     "output_type": "stream",
     "text": [
      "Изменение: + 0.08199999999999363\n"
     ]
    }
   ],
   "source": [
    "class Rate:\n",
    "    \"\"\"\n",
    "    \n",
    "    \"\"\"\n",
    "    def __init__(self, format_='value',diff = False):\n",
    "        self.format = format_\n",
    "        self.diff = diff\n",
    "    \n",
    "    \n",
    "    def exchange_rates(self):\n",
    "        \"\"\"\n",
    "        Возвращает ответ сервиса с информацией о валютах в виде:\n",
    "        \n",
    "        {\n",
    "            'AMD': {\n",
    "                'CharCode': 'AMD',\n",
    "                'ID': 'R01060',\n",
    "                'Name': 'Армянских драмов',\n",
    "                'Nominal': 100,\n",
    "                'NumCode': '051',\n",
    "                'Previous': 14.103,\n",
    "                'Value': 14.0879\n",
    "                },\n",
    "            ...\n",
    "        }\n",
    "        \"\"\"\n",
    "        self.r = requests.get('https://www.cbr-xml-daily.ru/daily_json.js')\n",
    "        return self.r.json()['Valute']\n",
    "    \n",
    "    \n",
    "    def make_format(self, currency):\n",
    "        \"\"\"\n",
    "        Возвращает информацию о валюте currency в двух вариантах:\n",
    "        - полная информация о валюте при self.format = 'full':\n",
    "        Rate('full').make_format('EUR')\n",
    "        {\n",
    "            'CharCode': 'EUR',\n",
    "            'ID': 'R01239',\n",
    "            'Name': 'Евро',\n",
    "            'Nominal': 1,\n",
    "            'NumCode': '978',\n",
    "            'Previous': 79.6765,\n",
    "            'Value': 79.4966\n",
    "        }\n",
    "        \n",
    "        Rate('value').make_format('EUR')\n",
    "        79.4966\n",
    "        \"\"\"\n",
    "        response = self.exchange_rates()\n",
    "        \n",
    "        if currency in response:\n",
    "            if self.format == 'full':\n",
    "                return response[currency]\n",
    "            \n",
    "            if self.format == 'value':\n",
    "                return response[currency]['Value']\n",
    "        \n",
    "        return 'Error'\n",
    "    \n",
    "    \n",
    "    def eur(self):\n",
    "        \"\"\"Возвращает курс евро на сегодня в формате self.format\"\"\"\n",
    "        return self.make_format('EUR')\n",
    "    \n",
    "    \n",
    "    def usd(self):\n",
    "        \"\"\"Возвращает курс доллара на сегодня в формате self.format\"\"\"\n",
    "        return self.make_format('USD')\n",
    "    \n",
    "    \n",
    "    def brl(self):\n",
    "        \"\"\"Возвращает курс бразильского реала на сегодня в формате self.format\"\"\"\n",
    "        return self.make_format('BRL')\n",
    "    \n",
    "    \n",
    "    def diff_delta(self,currency):\n",
    "        '''Возвращает разницу '''\n",
    "        response = self.exchange_rates()\n",
    "        value = response[currency]['Value']\n",
    "        previous = response[currency]['Previous']\n",
    "        return (value - previous) if (self.diff) else value\n",
    "    \n",
    "    \n",
    "    def current_course_info(self,currency):\n",
    "        info_label = 'Текущий курс: '\n",
    "        if (self.diff):\n",
    "            sign = '+' if (self.diff_delta(currency)) > 0 else ''\n",
    "            info_label = 'Изменение: ' + sign\n",
    "        print(str(info_label) + ' ' + str(self.diff_delta(currency)))\n",
    "        \n",
    "        \n",
    "rate = Rate('full',True)\n",
    "\n",
    "rate.current_course_info('EUR')"
   ]
  },
  {
   "cell_type": "markdown",
   "metadata": {},
   "source": [
    "# Задание 3\n",
    "Напишите класс Designer, который учитывает количество международных премий для дизайнеров (из презентации: \"Повышение на 1 грейд за каждые 7 баллов. Получение международной премии – это +2 балла\" для каждой аккредитации увеличиваем счетчик на 1, пока считаем, что все дизайнеры проходят аккредитацию). Считайте, что при выходе на работу сотрудник уже имеет две премии и их количество меняется со стажем (получение премии генератор случайных чисел ). Выполните проверку для 20 аккредитаций дизайнера Елены. Подсказки в коде занятия в разделе “Домашнее задание задача 3”.\n",
    "\n",
    "Для проверки используйте код:\n",
    "\n",
    "    elena = Designer('Елена', seniority=0, awards=2)\n",
    "    for i in range(20):\n",
    "           elena.check_if_it_is_time_for_upgrade()"
   ]
  },
  {
   "cell_type": "code",
   "execution_count": 58,
   "metadata": {},
   "outputs": [
    {
     "name": "stdout",
     "output_type": "stream",
     "text": [
      "Дизайнер: Елена Уровень: 1 Очки: 6\n",
      "Дизайнер: Елена Уровень: 1 Очки: 8\n",
      "Дизайнер: Елена Уровень: 1 Очки: 10\n",
      "Дизайнер: Елена Уровень: 1 Очки: 11\n",
      "Дизайнер: Елена Уровень: 1 Очки: 12\n",
      "Дизайнер: Елена Уровень: 1 Очки: 13\n",
      "Дизайнер: Елена Уровень: 1 Очки: 15\n",
      "Дизайнер: Елена Уровень: 1 Очки: 17\n",
      "Дизайнер: Елена Уровень: 1 Очки: 19\n",
      "Дизайнер: Елена Уровень: 1 Очки: 20\n",
      "Дизайнер: Елена Уровень: 2 Очки: 21\n",
      "Дизайнер: Елена Уровень: 2 Очки: 23\n",
      "Дизайнер: Елена Уровень: 2 Очки: 25\n",
      "Дизайнер: Елена Уровень: 2 Очки: 27\n",
      "Дизайнер: Елена Уровень: 2 Очки: 29\n",
      "Дизайнер: Елена Уровень: 2 Очки: 30\n",
      "Дизайнер: Елена Уровень: 2 Очки: 31\n",
      "Дизайнер: Елена Уровень: 2 Очки: 32\n",
      "Дизайнер: Елена Уровень: 2 Очки: 34\n",
      "Дизайнер: Елена Уровень: 2 Очки: 36\n"
     ]
    }
   ],
   "source": [
    "from random import randint\n",
    "\n",
    "class Designer:\n",
    "    def __init__(self,name,seniority,awards):\n",
    "        self.name = name\n",
    "        self.seniority = seniority\n",
    "        self.awards = awards\n",
    "        self.grade = 1\n",
    "        self.score = awards + 2\n",
    "    \n",
    "    \n",
    "    def publish_grade(self):\n",
    "        \"\"\"Публикация результатов аккредитации сотрудников\"\"\"\n",
    "        print('Дизайнер: ' + self.name + ' Уровень: ' + str(self.grade) + ' Очки: ' + str(self.score))\n",
    "    \n",
    "    \n",
    "    def grade_up(self):\n",
    "        self.grade += 1\n",
    "    \n",
    "    \n",
    "    def check_if_it_is_time_for_upgrade(self):\n",
    "        self.seniority += 1\n",
    "        self.score += randint(1,2)\n",
    "        if (self.score % 7 == 0):\n",
    "            self.grade_up()\n",
    "        return (self.publish_grade())\n",
    "        \n",
    "        \n",
    "elena = Designer('Елена', seniority=0, awards=2)\n",
    "for i in range(20):\n",
    "    elena.check_if_it_is_time_for_upgrade()\n",
    "    "
   ]
  },
  {
   "cell_type": "code",
   "execution_count": null,
   "metadata": {},
   "outputs": [],
   "source": []
  }
 ],
 "metadata": {
  "kernelspec": {
   "display_name": "Python 3",
   "language": "python",
   "name": "python3"
  },
  "language_info": {
   "codemirror_mode": {
    "name": "ipython",
    "version": 3
   },
   "file_extension": ".py",
   "mimetype": "text/x-python",
   "name": "python",
   "nbconvert_exporter": "python",
   "pygments_lexer": "ipython3",
   "version": "3.8.3"
  }
 },
 "nbformat": 4,
 "nbformat_minor": 4
}
